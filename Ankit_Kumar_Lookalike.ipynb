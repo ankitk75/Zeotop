{
 "cells": [
  {
   "cell_type": "code",
   "execution_count": 7,
   "id": "72f03e72-1f42-485d-8751-665b24d74e0c",
   "metadata": {},
   "outputs": [],
   "source": [
    "import pandas as pd\n",
    "from sklearn.metrics.pairwise import cosine_similarity\n",
    "from sklearn.preprocessing import StandardScaler\n",
    "import numpy as np"
   ]
  },
  {
   "cell_type": "code",
   "execution_count": 3,
   "id": "e1a2953f-acc3-420e-8a43-12dc5effc80e",
   "metadata": {},
   "outputs": [],
   "source": [
    "# Load datasets\n",
    "customers = pd.read_csv('Customers.csv')\n",
    "transactions = pd.read_csv('Transactions.csv')\n",
    "products = pd.read_csv('Products.csv')"
   ]
  },
  {
   "cell_type": "code",
   "execution_count": 15,
   "id": "87c4ccba-eb74-4570-9ff8-28b953ded826",
   "metadata": {},
   "outputs": [
    {
     "name": "stdout",
     "output_type": "stream",
     "text": [
      "  TransactionID CustomerID ProductID      TransactionDate  Quantity  \\\n",
      "0        T00001      C0199      P067  2024-08-25 12:38:23         1   \n",
      "1        T00112      C0146      P067  2024-05-27 22:23:54         1   \n",
      "2        T00166      C0127      P067  2024-04-25 07:38:55         1   \n",
      "3        T00272      C0087      P067  2024-03-26 22:55:37         2   \n",
      "4        T00363      C0070      P067  2024-03-21 15:10:10         3   \n",
      "\n",
      "   TotalValue  Price_x     CustomerName         Region  SignupDate  \\\n",
      "0      300.68   300.68   Andrea Jenkins         Europe  2022-12-03   \n",
      "1      300.68   300.68  Brittany Harvey           Asia  2024-09-04   \n",
      "2      300.68   300.68  Kathryn Stevens         Europe  2024-04-04   \n",
      "3      601.36   300.68  Travis Campbell  South America  2024-04-11   \n",
      "4      902.04   300.68    Timothy Perez         Europe  2022-03-15   \n",
      "\n",
      "                       ProductName     Category  Price_y  \n",
      "0  ComfortLiving Bluetooth Speaker  Electronics   300.68  \n",
      "1  ComfortLiving Bluetooth Speaker  Electronics   300.68  \n",
      "2  ComfortLiving Bluetooth Speaker  Electronics   300.68  \n",
      "3  ComfortLiving Bluetooth Speaker  Electronics   300.68  \n",
      "4  ComfortLiving Bluetooth Speaker  Electronics   300.68  \n",
      "\n",
      "\n",
      "\n",
      "  CustomerID  TotalValue  Quantity     Category\n",
      "0      C0001     3354.52        12  Electronics\n",
      "1      C0002     1862.74        10     Clothing\n",
      "2      C0003     2725.38        14   Home Decor\n",
      "3      C0004     5354.88        23        Books\n",
      "4      C0005     2034.24         7  Electronics\n"
     ]
    }
   ],
   "source": [
    "# Merge datasets to form a complete view\n",
    "merged_data = transactions.merge(customers, on='CustomerID').merge(products, on='ProductID')\n",
    "\n",
    "# Feature Engineering\n",
    "# Aggregate transaction history for each customer\n",
    "customer_features = merged_data.groupby('CustomerID').agg({\n",
    "    'TotalValue': 'sum',\n",
    "    'Quantity': 'sum',\n",
    "    'Category': lambda x: x.mode()[0]  # Most frequent product category\n",
    "}).reset_index()\n",
    "print(merged_data.head())\n",
    "print(\"\\n\\n\")\n",
    "print(customer_features.head())"
   ]
  },
  {
   "cell_type": "code",
   "execution_count": 16,
   "id": "b83ef832-cb83-4537-9109-7a89c384a271",
   "metadata": {},
   "outputs": [],
   "source": [
    "# Encode the 'Category' column\n",
    "customer_features = pd.get_dummies(customer_features, columns=['Category'], drop_first=True)\n",
    "\n",
    "# Normalize features\n",
    "scaler = StandardScaler()\n",
    "scaled_features = scaler.fit_transform(customer_features.drop(columns=['CustomerID']))\n",
    "\n",
    "# Compute cosine similarity\n",
    "similarity_matrix = cosine_similarity(scaled_features)\n",
    "\n",
    "# Map to get top 3 similar customers\n",
    "lookalike_map = {}\n",
    "\n",
    "for idx, customer_id in enumerate(customer_features['CustomerID']):\n",
    "    # Get similarity scores for the current customer\n",
    "    similarity_scores = list(enumerate(similarity_matrix[idx]))\n",
    "    \n",
    "    # Exclude self-similarity and sort by similarity score\n",
    "    similarity_scores = sorted(similarity_scores, key=lambda x: x[1], reverse=True)\n",
    "    similarity_scores = [(customer_features['CustomerID'][i], score) for i, score in similarity_scores if i != idx]\n",
    "\n",
    "    # Select top 3 similar customers\n",
    "    lookalike_map[customer_id] = similarity_scores[:3]\n",
    "\n",
    "# Filter for CustomerID C0001 to C0020\n",
    "lookalike_map_filtered = {cust_id: lookalike_map[cust_id] for cust_id in customer_features['CustomerID'] if cust_id in [f'C{str(i).zfill(4)}' for i in range(1, 21)]}\n"
   ]
  },
  {
   "cell_type": "code",
   "execution_count": 17,
   "id": "54e788ab-e0c0-47a6-a6ee-91dc8ed8e8d4",
   "metadata": {},
   "outputs": [],
   "source": [
    "lookalike_list = []\n",
    "for cust_id, similar_custs in lookalike_map_filtered.items():\n",
    "    lookalike_list.append({\n",
    "        'CustomerID': cust_id,\n",
    "        'Lookalikes': str([(sim_cust[0], round(sim_cust[1], 4)) for sim_cust in similar_custs])\n",
    "    })"
   ]
  },
  {
   "cell_type": "code",
   "execution_count": 18,
   "id": "370a6adc-80da-4756-883f-a22e0d8008e1",
   "metadata": {},
   "outputs": [],
   "source": [
    "lookalike_df = pd.DataFrame(lookalike_list)\n",
    "lookalike_df.to_csv('Ankit_Kumar_Lookalike.csv', index=False)"
   ]
  },
  {
   "cell_type": "code",
   "execution_count": null,
   "id": "c52fb3d5-b1a0-40da-9096-aa415334749b",
   "metadata": {},
   "outputs": [],
   "source": [
    " "
   ]
  }
 ],
 "metadata": {
  "kernelspec": {
   "display_name": "Python 3 (ipykernel)",
   "language": "python",
   "name": "python3"
  },
  "language_info": {
   "codemirror_mode": {
    "name": "ipython",
    "version": 3
   },
   "file_extension": ".py",
   "mimetype": "text/x-python",
   "name": "python",
   "nbconvert_exporter": "python",
   "pygments_lexer": "ipython3",
   "version": "3.10.14"
  }
 },
 "nbformat": 4,
 "nbformat_minor": 5
}
